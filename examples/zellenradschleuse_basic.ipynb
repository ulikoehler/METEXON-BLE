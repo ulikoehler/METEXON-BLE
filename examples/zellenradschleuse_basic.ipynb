{
 "cells": [
  {
   "cell_type": "markdown",
   "id": "7fb7fd6d",
   "metadata": {},
   "source": [
    "# Zellenradschleuse Read/Write Cycle Example\n",
    "\n",
    "This notebook demonstrates:\n",
    "\n",
    "1. Discovering Metexon devices (BLE) filtered by the Metexon primary service.\n",
    "2. Connecting with the typed `ZellenradschleuseClient`.\n",
    "3. Reading the current system state.\n",
    "4. Performing a partial manual control update using sentinel-aware helper utilities.\n",
    "5. Updating the RGB LEDs.\n",
    "6. Re-reading system state.\n",
    "\n",
    "> Requires real hardware in range advertising the Metexon service.\n",
    "\n",
    "If no device is found the notebook will stop early."
   ]
  },
  {
   "cell_type": "code",
   "execution_count": null,
   "id": "d993f9d9",
   "metadata": {},
   "outputs": [
    {
     "ename": "AttributeError",
     "evalue": "module 'ctypes' has no attribute 'WINFUNCTYPE'",
     "output_type": "error",
     "traceback": [
      "\u001b[0;31m---------------------------------------------------------------------------\u001b[0m",
      "\u001b[0;31mAttributeError\u001b[0m                            Traceback (most recent call last)",
      "Cell \u001b[0;32mIn[11], line 8\u001b[0m\n\u001b[1;32m      5\u001b[0m \u001b[38;5;28;01mfrom\u001b[39;00m \u001b[38;5;21;01mmetexon\u001b[39;00m \u001b[38;5;28;01mimport\u001b[39;00m adiscover_metexon\n\u001b[1;32m      7\u001b[0m \u001b[38;5;28;01mtry\u001b[39;00m:\n\u001b[0;32m----> 8\u001b[0m     \u001b[38;5;28;01mfrom\u001b[39;00m \u001b[38;5;21;01mbleak\u001b[39;00m\u001b[38;5;21;01m.\u001b[39;00m\u001b[38;5;21;01mbackends\u001b[39;00m\u001b[38;5;21;01m.\u001b[39;00m\u001b[38;5;21;01mwinrt\u001b[39;00m\u001b[38;5;21;01m.\u001b[39;00m\u001b[38;5;21;01mutil\u001b[39;00m \u001b[38;5;28;01mimport\u001b[39;00m allow_sta\n\u001b[1;32m      9\u001b[0m     \u001b[38;5;66;03m# tell Bleak we are using a graphical user interface that has been properly\u001b[39;00m\n\u001b[1;32m     10\u001b[0m     \u001b[38;5;66;03m# configured to work with asyncio\u001b[39;00m\n\u001b[1;32m     11\u001b[0m     allow_sta()\n",
      "File \u001b[0;32m~/.local/lib/python3.12/site-packages/bleak/backends/winrt/util.py:39\u001b[0m\n\u001b[1;32m     36\u001b[0m _UINT_PTR \u001b[38;5;241m=\u001b[39m wintypes\u001b[38;5;241m.\u001b[39mWPARAM\n\u001b[1;32m     38\u001b[0m \u001b[38;5;66;03m# https://learn.microsoft.com/en-us/windows/win32/api/winuser/nc-winuser-timerproc\u001b[39;00m\n\u001b[0;32m---> 39\u001b[0m _TIMERPROC \u001b[38;5;241m=\u001b[39m \u001b[43mctypes\u001b[49m\u001b[38;5;241;43m.\u001b[39;49m\u001b[43mWINFUNCTYPE\u001b[49m(\n\u001b[1;32m     40\u001b[0m     \u001b[38;5;28;01mNone\u001b[39;00m, wintypes\u001b[38;5;241m.\u001b[39mHWND, _UINT_PTR, wintypes\u001b[38;5;241m.\u001b[39mUINT, wintypes\u001b[38;5;241m.\u001b[39mDWORD\n\u001b[1;32m     41\u001b[0m )\n\u001b[1;32m     43\u001b[0m \u001b[38;5;66;03m# https://learn.microsoft.com/en-us/windows/win32/api/winuser/nf-winuser-settimer\u001b[39;00m\n\u001b[1;32m     44\u001b[0m _SET_TIMER_PROTOTYPE \u001b[38;5;241m=\u001b[39m ctypes\u001b[38;5;241m.\u001b[39mWINFUNCTYPE(\n\u001b[1;32m     45\u001b[0m     _UINT_PTR, wintypes\u001b[38;5;241m.\u001b[39mHWND, _UINT_PTR, wintypes\u001b[38;5;241m.\u001b[39mUINT, _TIMERPROC\n\u001b[1;32m     46\u001b[0m )\n",
      "\u001b[0;31mAttributeError\u001b[0m: module 'ctypes' has no attribute 'WINFUNCTYPE'"
     ]
    }
   ],
   "source": [
    "# Discovery step\n",
    "import sys\n",
    "sys.coinit_flags = 0  # 0 means MTA\n",
    "\n",
    "from metexon import adiscover_metexon\n",
    "import platform\n",
    "if platform.system() == 'Windows':\n",
    "    try:\n",
    "        from bleak.backends.winrt.util import allow_sta\n",
    "        # tell Bleak we are using a graphical user interface that has been properly\n",
    "        # configured to work with asyncio\n",
    "        allow_sta()\n",
    "    except ImportError:\n",
    "        # other OSes and older versions of Bleak will raise ImportError which we\n",
    "        # can safely ignore\n",
    "        pass\n",
    "\n",
    "# In Jupyter the event loop is already running, so use the async discover function\n",
    "FOUND = await adiscover_metexon(timeout=5.0)\n",
    "if not FOUND:\n",
    "    raise SystemExit(\"No Metexon devices discovered; cannot continue example.\")\n",
    "FOUND[0]"
   ]
  },
  {
   "cell_type": "code",
   "execution_count": null,
   "id": "c24c228a",
   "metadata": {},
   "outputs": [],
   "source": [
    "# Connect and read\n",
    "from metexon.zellenradschleuse import ZellenradschleuseClient\n",
    "\n",
    "address = FOUND[0]['address']\n",
    "client = ZellenradschleuseClient(address)\n",
    "client.connect()\n",
    "try:\n",
    "    print(\"Device type:\", client.device_type())\n",
    "    ss = client.read_system_state()\n",
    "    print(\"Initial state:\", ss.to_json())\n",
    "finally:\n",
    "    pass  # keep connection open for next cell"
   ]
  },
  {
   "cell_type": "code",
   "execution_count": null,
   "id": "e53b0e6d",
   "metadata": {},
   "outputs": [],
   "source": [
    "# Change LEDs\n",
    "client.write_rgb_led([(255,127,63), (0,255,0)])\n",
    "print(\"Updated LEDs\")"
   ]
  },
  {
   "cell_type": "code",
   "execution_count": null,
   "id": "6a30b9b9",
   "metadata": {},
   "outputs": [],
   "source": [
    "# Re-read system state and disconnect\n",
    "updated = client.read_system_state()\n",
    "print(\"Updated state:\", updated.to_json())\n",
    "client.disconnect()\n",
    "print(\"Disconnected\")"
   ]
  }
 ],
 "metadata": {
  "kernelspec": {
   "display_name": "Python 3",
   "language": "python",
   "name": "python3"
  },
  "language_info": {
   "codemirror_mode": {
    "name": "ipython",
    "version": 3
   },
   "file_extension": ".py",
   "mimetype": "text/x-python",
   "name": "python",
   "nbconvert_exporter": "python",
   "pygments_lexer": "ipython3",
   "version": "3.12.3"
  }
 },
 "nbformat": 4,
 "nbformat_minor": 5
}
