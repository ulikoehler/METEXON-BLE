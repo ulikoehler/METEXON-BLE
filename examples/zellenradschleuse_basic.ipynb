{
 "cells": [
  {
   "cell_type": "markdown",
   "id": "7fb7fd6d",
   "metadata": {},
   "source": [
    "# Zellenradschleuse Read/Write Cycle Example\n",
    "\n",
    "This notebook demonstrates:\n",
    "\n",
    "1. Discovering Metexon devices (BLE) filtered by the Metexon primary service.\n",
    "2. Connecting with the typed `ZellenradschleuseClient`.\n",
    "3. Reading the current system state.\n",
    "4. Performing a partial manual control update using sentinel-aware helper utilities.\n",
    "5. Updating the RGB LEDs.\n",
    "6. Re-reading system state.\n",
    "\n",
    "> Requires real hardware in range advertising the Metexon service.\n",
    "\n",
    "If no device is found the notebook will stop early."
   ]
  },
  {
   "cell_type": "code",
   "execution_count": null,
   "id": "d993f9d9",
   "metadata": {},
   "outputs": [],
   "source": [
    "# Discovery step\n",
    "from metexon import adiscover_metexon\n",
    "\n",
    "# In Jupyter the event loop is already running, so use the async discover function\n",
    "FOUND = await adiscover_metexon(timeout=5.0)\n",
    "if not FOUND:\n",
    "    raise SystemExit(\"No Metexon devices discovered; cannot continue example.\")\n",
    "FOUND[0]"
   ]
  },
  {
   "cell_type": "code",
   "execution_count": null,
   "id": "c24c228a",
   "metadata": {},
   "outputs": [],
   "source": [
    "# Connect and read\n",
    "from metexon.zellenradschleuse import ZellenradschleuseClient\n",
    "\n",
    "address = FOUND[0]['address']\n",
    "client = ZellenradschleuseClient(address)\n",
    "client.connect()\n",
    "try:\n",
    "    print(\"Device type:\", client.device_type())\n",
    "    ss = client.read_system_state()\n",
    "    print(\"Initial state:\", ss.to_json())\n",
    "finally:\n",
    "    pass  # keep connection open for next cell"
   ]
  },
  {
   "cell_type": "code",
   "execution_count": null,
   "id": "e53b0e6d",
   "metadata": {},
   "outputs": [],
   "source": [
    "# Change LEDs\n",
    "client.write_rgb_led([(255,127,63), (0,255,0)])\n",
    "print(\"Updated LEDs\")"
   ]
  },
  {
   "cell_type": "code",
   "execution_count": null,
   "id": "6a30b9b9",
   "metadata": {},
   "outputs": [],
   "source": [
    "# Re-read system state and disconnect\n",
    "updated = client.read_system_state()\n",
    "print(\"Updated state:\", updated.to_json())\n",
    "client.disconnect()\n",
    "print(\"Disconnected\")"
   ]
  }
 ],
 "metadata": {
  "kernelspec": {
   "display_name": "Python 3",
   "language": "python",
   "name": "python3"
  },
  "language_info": {
   "codemirror_mode": {
    "name": "ipython",
    "version": 3
   },
   "file_extension": ".py",
   "mimetype": "text/x-python",
   "name": "python",
   "nbconvert_exporter": "python",
   "pygments_lexer": "ipython3",
   "version": "3.12.3"
  }
 },
 "nbformat": 4,
 "nbformat_minor": 5
}
